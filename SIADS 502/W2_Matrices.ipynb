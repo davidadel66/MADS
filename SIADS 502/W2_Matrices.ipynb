{
 "cells": [
  {
   "attachments": {},
   "cell_type": "markdown",
   "metadata": {},
   "source": [
    "## Broadcasting"
   ]
  },
  {
   "cell_type": "code",
   "execution_count": 1,
   "metadata": {},
   "outputs": [
    {
     "name": "stdout",
     "output_type": "stream",
     "text": [
      "[3 4 5 7]\n"
     ]
    }
   ],
   "source": [
    "import numpy as np\n",
    "\n",
    "v = np.array([1,2,3,5])\n",
    "print(v+2) # The 2 is added upon each value in the matrix"
   ]
  },
  {
   "attachments": {},
   "cell_type": "markdown",
   "metadata": {},
   "source": [
    "## Matrices as Linear Mappings"
   ]
  },
  {
   "attachments": {},
   "cell_type": "markdown",
   "metadata": {},
   "source": [
    "The rank of a matrix is the maximum number of linearly independent row vectors or column vectors in the matrix. In other words, it's the maximum number of dimensions spanned by all the vectors (rows or columns) of the matrix.\n",
    "\n",
    "For example, consider the following 3x3 matrix:\n",
    "\n",
    "[1 0 0]\n",
    "[0 1 0] \n",
    "[0 0 1]\n",
    "\n",
    "The rank of this matrix is 3 because each row (or column) is linearly independent - that is, no row (or column) can be written as a linear combination of the others."
   ]
  },
  {
   "attachments": {},
   "cell_type": "markdown",
   "metadata": {},
   "source": [
    "Conversely, consider this 3x3 matrix:\n",
    "\n",
    "[1 2 3]\n",
    "[2 4 6]\n",
    "[3 6 9]\n",
    "\n",
    "The rank of this matrix is 1. Despite having 3 rows and 3 columns, all rows (and columns) can be written as a linear combination of any other single row (or column). For example, the second row is just the first row multiplied by 2, and the third row is the first row multiplied by 3.\n",
    "\n",
    "The rank of a matrix provides important information about the matrix, including the solutions to systems of linear equations represented by the matrix. If the rank of the coefficient matrix is equal to the rank of the augmented matrix (the coefficient matrix with an extra column representing the constants on the right side of the equations), then the system has a solution. Otherwise, the system has no solution."
   ]
  },
  {
   "attachments": {},
   "cell_type": "markdown",
   "metadata": {},
   "source": [
    "## Determinants and Traces"
   ]
  },
  {
   "attachments": {},
   "cell_type": "markdown",
   "metadata": {},
   "source": [
    "A matrix has a determinant if and only if it is a square matrix. that depends on the elements of the matrix. It captures info about what happens to the input space when it is multiplied by the matrix. \n",
    "\n",
    "if the columns of a matrix are linarly dependent, then its determinant will be zero. This is one way to check if a square matrix has an inverse"
   ]
  },
  {
   "attachments": {},
   "cell_type": "markdown",
   "metadata": {},
   "source": [
    "A 2 x 2 matrix A = [[a,b], [c,d]] has a determinant, \n",
    "det(A) = |[a,b], [c, d] | = ad - bc"
   ]
  },
  {
   "cell_type": "markdown",
   "metadata": {},
   "source": [
    "## Eigenvalues and Eigenvectors"
   ]
  },
  {
   "cell_type": "markdown",
   "metadata": {},
   "source": [
    "Let A be a n x n matrix. Then lambda is an eigenvalue of A, and x is the corresponding eigenvector of A if Ax = (lambda)x"
   ]
  },
  {
   "cell_type": "markdown",
   "metadata": {},
   "source": [
    "A maps x is just to a scalar times x. It just stretches or shrinkg and/or flips it"
   ]
  },
  {
   "cell_type": "markdown",
   "metadata": {},
   "source": [
    "To find the eigenvalues and eigen vectors, we need to know det(A-lambdaIn) = 0\n",
    "\n",
    "say A = np.array([[3,1], [2,4]]), then \n",
    "det(A-lambdaI) = det([[3 - lambda, 1], [2, 4 - lambda]]) = 0"
   ]
  },
  {
   "cell_type": "code",
   "execution_count": 2,
   "metadata": {},
   "outputs": [
    {
     "data": {
      "text/plain": [
       "(array([2., 5.]),\n",
       " array([[-0.70710678, -0.4472136 ],\n",
       "        [ 0.70710678, -0.89442719]]))"
      ]
     },
     "execution_count": 2,
     "metadata": {},
     "output_type": "execute_result"
    }
   ],
   "source": [
    "import numpy as np\n",
    "A = np.array([[3,1],[2,4]])\n",
    "np.linalg.eig(A)"
   ]
  },
  {
   "cell_type": "code",
   "execution_count": 4,
   "metadata": {},
   "outputs": [
    {
     "name": "stdout",
     "output_type": "stream",
     "text": [
      "[2. 5.]\n",
      "[[-0.70710678 -0.4472136 ]\n",
      " [ 0.70710678 -0.89442719]]\n"
     ]
    }
   ],
   "source": [
    "vals, vecs = np.linalg.eig(A)\n",
    "print(vals)\n",
    "print(vecs)"
   ]
  },
  {
   "cell_type": "code",
   "execution_count": 5,
   "metadata": {},
   "outputs": [
    {
     "data": {
      "text/plain": [
       "(0.9999999999999999, 0.9999999999999999)"
      ]
     },
     "execution_count": 5,
     "metadata": {},
     "output_type": "execute_result"
    }
   ],
   "source": [
    "np.linalg.norm(vecs[:,0]), np.linalg.norm(vecs[:,1])"
   ]
  },
  {
   "cell_type": "code",
   "execution_count": 6,
   "metadata": {},
   "outputs": [
    {
     "data": {
      "text/plain": [
       "(array([-1.41421356,  1.41421356]), array([-1.41421356,  1.41421356]))"
      ]
     },
     "execution_count": 6,
     "metadata": {},
     "output_type": "execute_result"
    }
   ],
   "source": [
    "A@vecs.T[0], vals[0]*vecs.T[0]"
   ]
  }
 ],
 "metadata": {
  "kernelspec": {
   "display_name": "Python 3.11.3 64-bit",
   "language": "python",
   "name": "python3"
  },
  "language_info": {
   "codemirror_mode": {
    "name": "ipython",
    "version": 3
   },
   "file_extension": ".py",
   "mimetype": "text/x-python",
   "name": "python",
   "nbconvert_exporter": "python",
   "pygments_lexer": "ipython3",
   "version": "3.11.3"
  },
  "orig_nbformat": 4,
  "vscode": {
   "interpreter": {
    "hash": "c261aea317cc0286b3b3261fbba9abdec21eaa57589985bb7a274bf54d6cc0a7"
   }
  }
 },
 "nbformat": 4,
 "nbformat_minor": 2
}
