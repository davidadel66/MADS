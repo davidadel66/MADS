{
 "cells": [
  {
   "cell_type": "markdown",
   "metadata": {},
   "source": [
    "---\n",
    "\n",
    "_You are currently using **version 1.1** of this notebook. To download notebooks and datafiles, as well as get help on Jupyter notebooks in the Coursera platform, visit the [Jupyter Notebook FAQ](https://www.coursera.org/learn/python-machine-learning/resources/bANLa) course resource._\n",
    "\n",
    "---"
   ]
  },
  {
   "cell_type": "markdown",
   "metadata": {},
   "source": [
    "## SIADS 542: Supervised Learning, Week 2:  Classification and Regression"
   ]
  },
  {
   "cell_type": "markdown",
   "metadata": {},
   "source": [
    "## Preamble and Review"
   ]
  },
  {
   "cell_type": "code",
   "execution_count": null,
   "metadata": {},
   "outputs": [],
   "source": [
    "# Either of the following is no longer\n",
    "# necessary for matplotlib in notebooks.\n",
    "# The import statement has you covered!\n",
    "\n",
    "# %matplotlib notebook\n",
    "# %matplotlib inline"
   ]
  },
  {
   "cell_type": "code",
   "execution_count": null,
   "metadata": {},
   "outputs": [],
   "source": [
    "# Suppress all warnings only when absolutely necessary\n",
    "# Warnings are in place for a reason!\n",
    "import warnings\n",
    "\n",
    "# warnings.filterwarnings('ignore')\n",
    "# warnings.simplefilter('ignore')"
   ]
  },
  {
   "cell_type": "code",
   "execution_count": null,
   "metadata": {},
   "outputs": [],
   "source": [
    "import numpy as np\n",
    "import pandas as pd\n",
    "import seaborn as sn\n",
    "import matplotlib.pyplot as plt\n",
    "\n",
    "from sklearn.model_selection import train_test_split\n",
    "from sklearn.preprocessing import MinMaxScaler\n",
    "from sklearn.neighbors import KNeighborsClassifier"
   ]
  },
  {
   "cell_type": "code",
   "execution_count": null,
   "metadata": {},
   "outputs": [],
   "source": [
    "np.set_printoptions(precision=3)\n",
    "\n",
    "## Additional imports can be inlcuded here"
   ]
  },
  {
   "cell_type": "code",
   "execution_count": null,
   "metadata": {},
   "outputs": [],
   "source": [
    "fruits = pd.read_table(\"fruit_data_with_colors.txt\")\n",
    "\n",
    "target_names_fruits = [\"apple\", \"mandarin\", \"orange\", \"lemon\"]\n",
    "feature_names_fruits = [\"height\", \"width\", \"mass\", \"color_score\"]\n",
    "\n",
    "X_fruits = fruits[feature_names_fruits]\n",
    "y_fruits = fruits[\"fruit_label\"]\n",
    "\n",
    "X_fruits_2d = fruits[[\"height\", \"width\"]]\n",
    "y_fruits_2d = fruits[\"fruit_label\"]\n",
    "\n",
    "X_train, X_test, y_train, y_test = train_test_split(X_fruits, y_fruits, random_state=0)\n",
    "\n",
    "scaler = MinMaxScaler()\n",
    "X_train_scaled = scaler.fit_transform(X_train)\n",
    "\n",
    "# we must apply the scaling to the test set that we computed for the training set\n",
    "X_test_scaled = scaler.transform(X_test)\n",
    "\n",
    "knn = KNeighborsClassifier(n_neighbors=5)\n",
    "knn.fit(X_train_scaled, y_train)\n",
    "\n",
    "print(\n",
    "    \"Accuracy of K-NN classifier on training set: {:.3f}\".format(\n",
    "        knn.score(X_train_scaled, y_train)\n",
    "    )\n",
    ")\n",
    "\n",
    "print(\n",
    "    \"Accuracy of K-NN classifier on test set: {:.3f}\".format(\n",
    "        knn.score(X_test_scaled, y_test)\n",
    "    )\n",
    ")\n",
    "\n",
    "example_fruit = {\"height\": [5.5], \"width\": [2.2], \"mass\": [10.0], \"color_score\": [0.7]}\n",
    "\n",
    "df_example_fruit = pd.DataFrame(data=example_fruit)\n",
    "\n",
    "example_fruit_scaled = scaler.transform(df_example_fruit)\n",
    "\n",
    "print(\n",
    "    \"Predicted fruit type for \",\n",
    "    example_fruit,\n",
    "    \" is \",\n",
    "    target_names_fruits[knn.predict(example_fruit_scaled)[0] - 1],\n",
    ")"
   ]
  },
  {
   "cell_type": "code",
   "execution_count": null,
   "metadata": {},
   "outputs": [],
   "source": [
    "crime = pd.read_table(\"CommViolPredUnnormalizedData.txt\", sep=\",\", na_values=\"?\")\n",
    "\n",
    "# remove features with poor coverage or lower relevance, and keep ViolentCrimesPerPop target column\n",
    "columns_to_keep = [5, 6] + list(range(11, 26)) + list(range(32, 103)) + [145]\n",
    "crime = crime.iloc[:, columns_to_keep].dropna()\n",
    "\n",
    "crime.head()"
   ]
  },
  {
   "cell_type": "markdown",
   "metadata": {},
   "source": [
    "## Datasets"
   ]
  },
  {
   "cell_type": "code",
   "execution_count": null,
   "metadata": {
    "scrolled": false
   },
   "outputs": [],
   "source": [
    "from sklearn.datasets import make_classification, make_blobs\n",
    "from matplotlib.colors import ListedColormap\n",
    "from sklearn.datasets import load_breast_cancer\n",
    "from adspy_shared_utilities import load_crime_dataset\n",
    "\n",
    "cmap_bold = ListedColormap([\"#FFA500\", \"#00FF00\", \"#0000FF\", \"#000000\"])\n",
    "\n",
    "\n",
    "# synthetic dataset for simple regression\n",
    "from sklearn.datasets import make_regression\n",
    "\n",
    "plt.figure(figsize=(8, 6))\n",
    "plt.title(\"Sample regression problem with one input variable\")\n",
    "X_R1, y_R1 = make_regression(\n",
    "    n_samples=100, n_features=1, n_informative=1, bias=150.0, noise=30, random_state=0\n",
    ")\n",
    "plt.scatter(X_R1, y_R1, marker=\"o\", s=50)\n",
    "plt.show()\n",
    "\n",
    "\n",
    "# synthetic dataset for more complex regression\n",
    "from sklearn.datasets import make_friedman1\n",
    "\n",
    "plt.figure(figsize=(8, 6))\n",
    "plt.title(\"Complex regression problem with one input variable\")\n",
    "X_F1, y_F1 = make_friedman1(n_samples=100, n_features=7, random_state=0)\n",
    "\n",
    "plt.scatter(X_F1[:, 2], y_F1, marker=\"o\", s=50)\n",
    "plt.show()\n",
    "\n",
    "# synthetic dataset for classification (binary)\n",
    "plt.figure(figsize=(8, 6))\n",
    "plt.title(\"Sample binary classification problem with two informative features\")\n",
    "X_C2, y_C2 = make_classification(\n",
    "    n_samples=100,\n",
    "    n_features=2,\n",
    "    n_redundant=0,\n",
    "    n_informative=2,\n",
    "    n_clusters_per_class=1,\n",
    "    flip_y=0.1,\n",
    "    class_sep=0.5,\n",
    "    random_state=0,\n",
    ")\n",
    "plt.scatter(X_C2[:, 0], X_C2[:, 1], c=y_C2, marker=\"o\", s=50, cmap=cmap_bold)\n",
    "plt.show()\n",
    "\n",
    "\n",
    "# more difficult synthetic dataset for classification (binary)\n",
    "# with classes that are not linearly separable\n",
    "X_D2, y_D2 = make_blobs(\n",
    "    n_samples=100, n_features=2, centers=8, cluster_std=1.3, random_state=4\n",
    ")\n",
    "y_D2 = y_D2 % 2\n",
    "\n",
    "plt.figure(figsize=(8, 6))\n",
    "plt.title(\"Sample binary classification problem with non-linearly separable classes\")\n",
    "plt.scatter(X_D2[:, 0], X_D2[:, 1], c=y_D2, marker=\"o\", s=50, cmap=cmap_bold)\n",
    "plt.show()\n",
    "\n",
    "\n",
    "# Breast cancer dataset for classification\n",
    "cancer = load_breast_cancer()\n",
    "(X_cancer, y_cancer) = load_breast_cancer(return_X_y=True)\n",
    "\n",
    "\n",
    "# Communities and Crime dataset\n",
    "(X_crime, y_crime) = load_crime_dataset()"
   ]
  },
  {
   "cell_type": "markdown",
   "metadata": {},
   "source": [
    "## K-Nearest Neighbors"
   ]
  },
  {
   "cell_type": "markdown",
   "metadata": {},
   "source": [
    "### Classification"
   ]
  },
  {
   "cell_type": "code",
   "execution_count": null,
   "metadata": {
    "scrolled": false
   },
   "outputs": [],
   "source": [
    "from adspy_shared_utilities import plot_two_class_knn\n",
    "\n",
    "X_train, X_test, y_train, y_test = train_test_split(X_C2, y_C2, random_state=0)\n",
    "\n",
    "plt.figure(figsize=(8, 6))\n",
    "plot_two_class_knn(X_train, y_train, 1, \"uniform\", X_test, y_test)\n",
    "plt.tight_layout()\n",
    "\n",
    "plt.figure(figsize=(8, 6))\n",
    "plot_two_class_knn(X_train, y_train, 3, \"uniform\", X_test, y_test)\n",
    "plt.tight_layout()\n",
    "\n",
    "plt.figure(figsize=(8, 6))\n",
    "plot_two_class_knn(X_train, y_train, 11, \"uniform\", X_test, y_test)\n",
    "plt.tight_layout()"
   ]
  },
  {
   "cell_type": "markdown",
   "metadata": {},
   "source": [
    "### Regression"
   ]
  },
  {
   "cell_type": "code",
   "execution_count": null,
   "metadata": {},
   "outputs": [],
   "source": [
    "from sklearn.neighbors import KNeighborsRegressor\n",
    "\n",
    "X_train, X_test, y_train, y_test = train_test_split(X_R1, y_R1, random_state=0)\n",
    "\n",
    "knnreg = KNeighborsRegressor(n_neighbors=5).fit(X_train, y_train)\n",
    "\n",
    "print(knnreg.predict(X_test))\n",
    "print(\"R-squared test score: {:.3f}\".format(knnreg.score(X_test, y_test)))"
   ]
  },
  {
   "cell_type": "code",
   "execution_count": null,
   "metadata": {},
   "outputs": [],
   "source": [
    "X_predict_input = np.linspace(-3, 3, 50).reshape(-1, 1)\n",
    "X_train, X_test, y_train, y_test = train_test_split(\n",
    "    X_R1[0::5], y_R1[0::5], random_state=0\n",
    ")\n",
    "\n",
    "fig, subaxes = plt.subplots(1, 2, figsize=(12, 6))\n",
    "\n",
    "for thisaxis, K in zip(subaxes, [1, 3]):\n",
    "    knnreg = KNeighborsRegressor(n_neighbors=K).fit(X_train, y_train)\n",
    "    y_predict_output = knnreg.predict(X_predict_input)\n",
    "\n",
    "    thisaxis.set_title(\"KNN regression (K={})\".format(K))\n",
    "    thisaxis.set_xlabel(\"Input feature\")\n",
    "    thisaxis.set_ylabel(\"Target value\")\n",
    "    thisaxis.set_xlim([-2.5, 0.75])\n",
    "\n",
    "    thisaxis.plot(\n",
    "        X_predict_input,\n",
    "        y_predict_output,\n",
    "        \"^\",\n",
    "        markersize=10,\n",
    "        alpha=0.8,\n",
    "        label=\"Predicted\",\n",
    "    )\n",
    "\n",
    "    thisaxis.plot(X_train, y_train, \"o\", alpha=0.8, label=\"True Value\")\n",
    "    thisaxis.legend()\n",
    "\n",
    "    plt.tight_layout()"
   ]
  },
  {
   "cell_type": "markdown",
   "metadata": {},
   "source": [
    "### Regression model complexity as a function of K"
   ]
  },
  {
   "cell_type": "code",
   "execution_count": null,
   "metadata": {
    "scrolled": false
   },
   "outputs": [],
   "source": [
    "# plot k-NN regression on sample dataset for different values of K\n",
    "X_predict_input = np.linspace(-3, 3, 500).reshape(-1, 1)\n",
    "X_train, X_test, y_train, y_test = train_test_split(X_R1, y_R1, random_state=0)\n",
    "\n",
    "fig, subaxes = plt.subplots(5, 1, figsize=(8, 32))\n",
    "\n",
    "for thisaxis, K in zip(subaxes, [1, 3, 7, 15, 55]):\n",
    "    knnreg = KNeighborsRegressor(n_neighbors=K).fit(X_train, y_train)\n",
    "    y_predict_output = knnreg.predict(X_predict_input)\n",
    "\n",
    "    train_score = knnreg.score(X_train, y_train)\n",
    "    test_score = knnreg.score(X_test, y_test)\n",
    "\n",
    "    thisaxis.set_xlabel(\"Input feature\")\n",
    "    thisaxis.set_ylabel(\"Target value\")\n",
    "    thisaxis.set_title(\n",
    "        f\"KNN Regression (K={K})\\nTrain $R^2 = {train_score:.3f}$,  Test $R^2 = {test_score:.3f}$\"\n",
    "    )\n",
    "\n",
    "    thisaxis.plot(X_predict_input, y_predict_output)\n",
    "    thisaxis.plot(X_train, y_train, \"o\", alpha=0.9, label=\"Train\")\n",
    "    thisaxis.plot(X_test, y_test, \"^\", alpha=0.9, label=\"Test\")\n",
    "    thisaxis.legend(loc=\"best\")\n",
    "\n",
    "    plt.tight_layout(pad=0.4, w_pad=0.5, h_pad=1.0)"
   ]
  },
  {
   "cell_type": "markdown",
   "metadata": {},
   "source": [
    "## Linear models for regression"
   ]
  },
  {
   "cell_type": "markdown",
   "metadata": {},
   "source": [
    "### Linear regression"
   ]
  },
  {
   "cell_type": "code",
   "execution_count": null,
   "metadata": {},
   "outputs": [],
   "source": [
    "from sklearn.linear_model import LinearRegression\n",
    "\n",
    "X_train, X_test, y_train, y_test = train_test_split(X_R1, y_R1, random_state=0)\n",
    "linreg = LinearRegression().fit(X_train, y_train)\n",
    "\n",
    "print(\"linear model coeff (w): {}\".format(linreg.coef_))\n",
    "print(\"linear model intercept (b): {:.3f}\".format(linreg.intercept_))\n",
    "print(\"R-squared score (training): {:.3f}\".format(linreg.score(X_train, y_train)))\n",
    "print(\"R-squared score (test): {:.3f}\".format(linreg.score(X_test, y_test)))"
   ]
  },
  {
   "cell_type": "markdown",
   "metadata": {},
   "source": [
    "### Linear regression: example plot "
   ]
  },
  {
   "cell_type": "code",
   "execution_count": null,
   "metadata": {},
   "outputs": [],
   "source": [
    "plt.figure(figsize=(8, 6))\n",
    "plt.title(\"Least-squares linear regression\")\n",
    "plt.xlabel(\"Feature value (x)\")\n",
    "plt.ylabel(\"Target value (y)\")\n",
    "\n",
    "plt.scatter(X_R1, y_R1, marker=\"o\", s=50, alpha=0.8)\n",
    "plt.plot(X_R1, linreg.coef_ * X_R1 + linreg.intercept_, \"r-\")"
   ]
  },
  {
   "cell_type": "code",
   "execution_count": null,
   "metadata": {},
   "outputs": [],
   "source": [
    "X_train, X_test, y_train, y_test = train_test_split(X_crime, y_crime, random_state=0)\n",
    "linreg = LinearRegression().fit(X_train, y_train)\n",
    "\n",
    "print(\"Crime dataset\")\n",
    "print(\"linear model intercept: {}\".format(linreg.intercept_))\n",
    "print(\"linear model coeff:\\n{}\".format(linreg.coef_))\n",
    "print(\"R-squared score (training): {:.3f}\".format(linreg.score(X_train, y_train)))\n",
    "print(\"R-squared score (test): {:.3f}\".format(linreg.score(X_test, y_test)))"
   ]
  },
  {
   "cell_type": "markdown",
   "metadata": {},
   "source": [
    "### Ridge regression"
   ]
  },
  {
   "cell_type": "code",
   "execution_count": null,
   "metadata": {},
   "outputs": [],
   "source": [
    "from sklearn.linear_model import Ridge\n",
    "\n",
    "X_train, X_test, y_train, y_test = train_test_split(X_crime, y_crime, random_state=0)\n",
    "\n",
    "linridge = Ridge(alpha=20.0).fit(X_train, y_train)\n",
    "\n",
    "print(\"Crime dataset\")\n",
    "print(\"ridge regression linear model intercept: {}\".format(linridge.intercept_))\n",
    "print(\"ridge regression linear model coeff:\\n{}\".format(linridge.coef_))\n",
    "print(\"R-squared score (training): {:.3f}\".format(linridge.score(X_train, y_train)))\n",
    "print(\"R-squared score (test): {:.3f}\".format(linridge.score(X_test, y_test)))\n",
    "print(\"Number of non-zero features: {}\".format(np.sum(linridge.coef_ != 0)))"
   ]
  },
  {
   "cell_type": "markdown",
   "metadata": {},
   "source": [
    "#### Ridge regression with feature normalization"
   ]
  },
  {
   "cell_type": "code",
   "execution_count": null,
   "metadata": {},
   "outputs": [],
   "source": [
    "from sklearn.preprocessing import MinMaxScaler\n",
    "\n",
    "scaler = MinMaxScaler()\n",
    "\n",
    "from sklearn.linear_model import Ridge\n",
    "\n",
    "X_train, X_test, y_train, y_test = train_test_split(X_crime, y_crime, random_state=0)\n",
    "\n",
    "X_train_scaled = scaler.fit_transform(X_train)\n",
    "X_test_scaled = scaler.transform(X_test)\n",
    "\n",
    "linridge = Ridge(alpha=20.0).fit(X_train_scaled, y_train)\n",
    "\n",
    "print(\"Crime dataset\")\n",
    "print(\"ridge regression linear model intercept: {}\".format(linridge.intercept_))\n",
    "print(\"ridge regression linear model coeff:\\n{}\".format(linridge.coef_))\n",
    "print(\n",
    "    \"R-squared score (training): {:.3f}\".format(linridge.score(X_train_scaled, y_train))\n",
    ")\n",
    "print(\"R-squared score (test): {:.3f}\".format(linridge.score(X_test_scaled, y_test)))\n",
    "print(\"Number of non-zero features: {}\".format(np.sum(linridge.coef_ != 0)))"
   ]
  },
  {
   "cell_type": "markdown",
   "metadata": {},
   "source": [
    "#### Ridge regression with regularization parameter: alpha"
   ]
  },
  {
   "cell_type": "code",
   "execution_count": null,
   "metadata": {},
   "outputs": [],
   "source": [
    "print(\"Ridge regression: effect of alpha regularization parameter\\n\")\n",
    "for this_alpha in [0, 1, 10, 20, 50, 100, 1000]:\n",
    "    linridge = Ridge(alpha=this_alpha).fit(X_train_scaled, y_train)\n",
    "    r2_train = linridge.score(X_train_scaled, y_train)\n",
    "    r2_test = linridge.score(X_test_scaled, y_test)\n",
    "    num_coeff_bigger = np.sum(abs(linridge.coef_) > 1.0)\n",
    "    print(\n",
    "        \"Alpha = {:.3f}\\nnum abs(coeff) > 1.0: {}, \\\n",
    "r-squared training: {:.3f}, r-squared test: {:.3f}\\n\".format(\n",
    "            this_alpha, num_coeff_bigger, r2_train, r2_test\n",
    "        )\n",
    "    )"
   ]
  },
  {
   "cell_type": "markdown",
   "metadata": {},
   "source": [
    "### Lasso regression"
   ]
  },
  {
   "cell_type": "code",
   "execution_count": null,
   "metadata": {},
   "outputs": [],
   "source": [
    "from sklearn.linear_model import Lasso\n",
    "from sklearn.preprocessing import MinMaxScaler\n",
    "\n",
    "scaler = MinMaxScaler()\n",
    "\n",
    "X_train, X_test, y_train, y_test = train_test_split(X_crime, y_crime, random_state=0)\n",
    "\n",
    "X_train_scaled = scaler.fit_transform(X_train)\n",
    "X_test_scaled = scaler.transform(X_test)\n",
    "\n",
    "linlasso = Lasso(alpha=2.0, max_iter=10000).fit(X_train_scaled, y_train)\n",
    "\n",
    "print(\"Crime dataset\\n\")\n",
    "print(\"lasso regression linear model intercept: {}\".format(linlasso.intercept_))\n",
    "print(\"lasso regression linear model coeff:\\n{}\\n\".format(linlasso.coef_))\n",
    "print(\"Non-zero features: {}\".format(np.sum(linlasso.coef_ != 0)))\n",
    "print(\n",
    "    \"R-squared score (training): {:.3f}\".format(linlasso.score(X_train_scaled, y_train))\n",
    ")\n",
    "print(\"R-squared score (test): {:.3f}\\n\".format(linlasso.score(X_test_scaled, y_test)))\n",
    "print(\"Features with non-zero weight (sorted by absolute magnitude):\")\n",
    "\n",
    "for e in sorted(list(zip(list(X_crime), linlasso.coef_)), key=lambda e: -abs(e[1])):\n",
    "    if e[1] != 0:\n",
    "        print(\"\\t{}, {:.3f}\".format(e[0], e[1]))"
   ]
  },
  {
   "cell_type": "markdown",
   "metadata": {},
   "source": [
    "#### Lasso regression with regularization parameter: alpha"
   ]
  },
  {
   "cell_type": "code",
   "execution_count": null,
   "metadata": {},
   "outputs": [],
   "source": [
    "print(\n",
    "    \"Lasso regression: effect of alpha regularization\\n\\\n",
    "parameter on number of features kept in final model\\n\"\n",
    ")\n",
    "\n",
    "for alpha in [0.5, 1, 2, 3, 5, 10, 20, 50]:\n",
    "    linlasso = Lasso(alpha, max_iter=10000).fit(X_train_scaled, y_train)\n",
    "    r2_train = linlasso.score(X_train_scaled, y_train)\n",
    "    r2_test = linlasso.score(X_test_scaled, y_test)\n",
    "\n",
    "    print(\n",
    "        f\"Alpha = {alpha:.3f}, Features kept: {np.sum(linlasso.coef_ != 0)},\\n\\\n",
    "r-squared training: {r2_train:.3f}, r-squared test: {r2_test:.3f}\\n\"\n",
    "    )"
   ]
  },
  {
   "cell_type": "markdown",
   "metadata": {},
   "source": [
    "### Polynomial regression"
   ]
  },
  {
   "cell_type": "code",
   "execution_count": null,
   "metadata": {},
   "outputs": [],
   "source": [
    "from sklearn.linear_model import LinearRegression\n",
    "from sklearn.linear_model import Ridge\n",
    "from sklearn.preprocessing import PolynomialFeatures\n",
    "\n",
    "\n",
    "X_train, X_test, y_train, y_test = train_test_split(X_F1, y_F1, random_state=0)\n",
    "linreg = LinearRegression().fit(X_train, y_train)\n",
    "\n",
    "print(f\"linear model coeff (w): {linreg.coef_}\")\n",
    "print(f\"linear model intercept (b): {linreg.intercept_:.3f}\\n\")\n",
    "print(f\"R-squared score (training): {linreg.score(X_train, y_train):.3f}\")\n",
    "print(f\"R-squared score (test): {linreg.score(X_test, y_test):.3f}\")\n",
    "\n",
    "print(\n",
    "    \"\\nNow we transform the original input data to add\\n\\\n",
    "polynomial features up to degree 2 (quadratic)\\n\"\n",
    ")\n",
    "poly = PolynomialFeatures(degree=2)\n",
    "X_F1_poly = poly.fit_transform(X_F1)\n",
    "\n",
    "X_train, X_test, y_train, y_test = train_test_split(X_F1_poly, y_F1, random_state=0)\n",
    "linreg = LinearRegression().fit(X_train, y_train)\n",
    "\n",
    "print(f\"(poly deg 2) linear model coeff (w):\\n{linreg.coef_}\\n\")\n",
    "print(f\"(poly deg 2) linear model intercept (b): {linreg.intercept_:.3f}\")\n",
    "print(f\"(poly deg 2) R-squared score (training): {linreg.score(X_train, y_train):.3f}\")\n",
    "print(f\"(poly deg 2) R-squared score (test): {linreg.score(X_test, y_test):.3f}\\n\")\n",
    "\n",
    "print(\n",
    "    \"\\nAddition of many polynomial features often leads to\\n\\\n",
    "overfitting, so we often use polynomial features in combination\\n\\\n",
    "with regression that has a regularization penalty, like ridge\\n\\\n",
    "regression.\\n\"\n",
    ")\n",
    "\n",
    "X_train, X_test, y_train, y_test = train_test_split(X_F1_poly, y_F1, random_state=0)\n",
    "linreg = Ridge().fit(X_train, y_train)\n",
    "\n",
    "print(f\"(poly deg 2 + ridge) linear model coeff (w):\\n{linreg.coef_}\\n\")\n",
    "print(f\"(poly deg 2 + ridge) linear model intercept (b): {linreg.intercept_:.3f}\")\n",
    "print(\n",
    "    f\"(poly deg 2 + ridge) R-squared score (training): {linreg.score(X_train, y_train):.3f}\"\n",
    ")\n",
    "print(\n",
    "    f\"(poly deg 2 + ridge) R-squared score (test): {linreg.score(X_test, y_test):.3f}\"\n",
    ")"
   ]
  },
  {
   "cell_type": "markdown",
   "metadata": {},
   "source": [
    "## Linear models for classification"
   ]
  },
  {
   "cell_type": "markdown",
   "metadata": {},
   "source": [
    "### Logistic regression"
   ]
  },
  {
   "cell_type": "markdown",
   "metadata": {},
   "source": [
    "#### Logistic regression for binary classification on fruits dataset using height, width features (positive class: apple, negative class: others)"
   ]
  },
  {
   "cell_type": "code",
   "execution_count": null,
   "metadata": {},
   "outputs": [],
   "source": [
    "from sklearn.linear_model import LogisticRegression\n",
    "from adspy_shared_utilities import plot_class_regions_for_classifier_subplot\n",
    "\n",
    "y_fruits_apple = (\n",
    "    y_fruits_2d == 1\n",
    ")  # make into a binary problem: apples vs everything else\n",
    "X_train, X_test, y_train, y_test = train_test_split(\n",
    "    X_fruits_2d.values, y_fruits_apple.values, random_state=0\n",
    ")\n",
    "\n",
    "clf = LogisticRegression(C=100).fit(X_train, y_train)\n",
    "\n",
    "fig, subaxes = plt.subplots(1, 1, figsize=(8, 6))\n",
    "subaxes.set_xlabel(\"height\")\n",
    "subaxes.set_ylabel(\"width\")\n",
    "\n",
    "plot_class_regions_for_classifier_subplot(\n",
    "    clf,\n",
    "    X_train,\n",
    "    y_train,\n",
    "    None,\n",
    "    None,\n",
    "    \"Logistic regression for binary classification\\nFruit dataset: Apple vs others\",\n",
    "    subaxes,\n",
    ")\n",
    "\n",
    "plt.tight_layout()\n",
    "\n",
    "h, w = 6, 8\n",
    "resultA = [\"not an apple\", \"an apple\"][int(clf.predict([[h, w]])[0])]\n",
    "print(f\"A fruit with height {h} and width {w} is predicted to be: {resultA}\")\n",
    "\n",
    "h, w = 10, 7\n",
    "resultB = [\"not an apple\", \"an apple\"][int(clf.predict([[h, w]])[0])]\n",
    "print(f\"A fruit with height {h} and width {w} is predicted to be: {resultB}\\n\")\n",
    "\n",
    "print(\n",
    "    f\"Accuracy of Logistic regression classifier on training set: {clf.score(X_train, y_train):.3f}\"\n",
    ")\n",
    "print(\n",
    "    f\"Accuracy of Logistic regression classifier on test set: {clf.score(X_test, y_test):.3f}\"\n",
    ")"
   ]
  },
  {
   "cell_type": "markdown",
   "metadata": {},
   "source": [
    "#### Logistic regression on simple synthetic dataset"
   ]
  },
  {
   "cell_type": "code",
   "execution_count": null,
   "metadata": {
    "scrolled": false
   },
   "outputs": [],
   "source": [
    "from sklearn.linear_model import LogisticRegression\n",
    "from adspy_shared_utilities import plot_class_regions_for_classifier_subplot\n",
    "\n",
    "\n",
    "X_train, X_test, y_train, y_test = train_test_split(X_C2, y_C2, random_state=0)\n",
    "C = 1.0\n",
    "\n",
    "clf = LogisticRegression(C=C).fit(X_train, y_train)\n",
    "\n",
    "fig, subaxes = plt.subplots(1, 1, figsize=(8, 6))\n",
    "\n",
    "title = f\"Logistic regression, simple synthetic dataset C = {C:.3f}\"\n",
    "\n",
    "plot_class_regions_for_classifier_subplot(\n",
    "    clf, X_train, y_train, None, None, title, subaxes\n",
    ")\n",
    "\n",
    "plt.tight_layout()\n",
    "\n",
    "print(\n",
    "    f\"Accuracy of Logistic regression classifier on training set: {clf.score(X_train, y_train):.3f}\"\n",
    ")\n",
    "print(\n",
    "    f\"Accuracy of Logistic regression classifier on test set: {clf.score(X_test, y_test):.3f}\"\n",
    ")"
   ]
  },
  {
   "cell_type": "markdown",
   "metadata": {},
   "source": [
    "#### Logistic regression regularization: C parameter"
   ]
  },
  {
   "cell_type": "code",
   "execution_count": null,
   "metadata": {
    "scrolled": false
   },
   "outputs": [],
   "source": [
    "X_train, X_test, y_train, y_test = train_test_split(\n",
    "    X_fruits_2d.values, y_fruits_apple.values, random_state=0\n",
    ")\n",
    "\n",
    "fig, subaxes = plt.subplots(3, 1, figsize=(8, 16))\n",
    "\n",
    "for this_C, subplot in zip([0.1, 1, 100], subaxes):\n",
    "    clf = LogisticRegression(C=this_C).fit(X_train, y_train)\n",
    "\n",
    "    title = f\"Logistic regression (apple vs rest)\\nC = {this_C:.3f}\"\n",
    "    plot_class_regions_for_classifier_subplot(\n",
    "        clf, X_train, y_train, X_test, y_test, title, subplot\n",
    "    )\n",
    "\n",
    "    plt.tight_layout()"
   ]
  },
  {
   "cell_type": "markdown",
   "metadata": {},
   "source": [
    "#### Application to real dataset"
   ]
  },
  {
   "cell_type": "code",
   "execution_count": null,
   "metadata": {},
   "outputs": [],
   "source": [
    "from sklearn.linear_model import LogisticRegression\n",
    "\n",
    "# default: max_iter=100\n",
    "# try increasing max_iter to eliminate the warning\n",
    "max_iter = 100\n",
    "\n",
    "X_train, X_test, y_train, y_test = train_test_split(X_cancer, y_cancer, random_state=0)\n",
    "\n",
    "clf = LogisticRegression(max_iter=max_iter).fit(X_train, y_train)\n",
    "\n",
    "print(\"Breast cancer dataset\")\n",
    "print(\n",
    "    f\"Accuracy of Logistic regression classifier on training set: {clf.score(X_train, y_train):.3f}\"\n",
    ")\n",
    "print(\n",
    "    f\"Accuracy of Logistic regression classifier on test set: {clf.score(X_test, y_test):.3f}\"\n",
    ")"
   ]
  },
  {
   "cell_type": "markdown",
   "metadata": {},
   "source": [
    "### Support Vector Machines"
   ]
  },
  {
   "cell_type": "markdown",
   "metadata": {},
   "source": [
    "#### Linear Support Vector Machine"
   ]
  },
  {
   "cell_type": "code",
   "execution_count": null,
   "metadata": {},
   "outputs": [],
   "source": [
    "from sklearn.svm import SVC\n",
    "from adspy_shared_utilities import plot_class_regions_for_classifier_subplot\n",
    "\n",
    "\n",
    "X_train, X_test, y_train, y_test = train_test_split(X_C2, y_C2, random_state=0)\n",
    "\n",
    "this_C = 1.0\n",
    "clf = SVC(kernel=\"linear\", C=this_C).fit(X_train, y_train)\n",
    "\n",
    "fig, subaxes = plt.subplots(1, 1, figsize=(8, 6))\n",
    "\n",
    "title = f\"Linear SVC\\nC = {this_C:.3f}\"\n",
    "plot_class_regions_for_classifier_subplot(\n",
    "    clf, X_train, y_train, None, None, title, subaxes\n",
    ")\n",
    "\n",
    "plt.tight_layout()"
   ]
  },
  {
   "cell_type": "markdown",
   "metadata": {},
   "source": [
    "#### Linear Support Vector Machine: C parameter"
   ]
  },
  {
   "cell_type": "code",
   "execution_count": null,
   "metadata": {},
   "outputs": [],
   "source": [
    "from sklearn.svm import LinearSVC\n",
    "from adspy_shared_utilities import plot_class_regions_for_classifier\n",
    "\n",
    "\n",
    "# default: max_iter=1000\n",
    "# how few iterations are necessary for convergence?\n",
    "max_iter = 100\n",
    "\n",
    "X_train, X_test, y_train, y_test = train_test_split(X_C2, y_C2, random_state=0)\n",
    "\n",
    "fig, subaxes = plt.subplots(1, 2, figsize=(12, 6))\n",
    "\n",
    "for this_C, subplot in zip([0.00001, 100], subaxes):\n",
    "    clf = LinearSVC(C=this_C, random_state=42, dual=False, max_iter=max_iter).fit(\n",
    "        X_train, y_train\n",
    "    )\n",
    "    title = f\"Linear SVC\\nC = {this_C:.5f}\"\n",
    "    plot_class_regions_for_classifier_subplot(\n",
    "        clf, X_train, y_train, None, None, title, subplot\n",
    "    )\n",
    "\n",
    "    plt.tight_layout()"
   ]
  },
  {
   "cell_type": "markdown",
   "metadata": {},
   "source": [
    "#### Application to real dataset\n",
    "[Read the docs](https://scikit-learn.org/stable/modules/generated/sklearn.svm.LinearSVC.html#sklearn.svm.LinearSVC)"
   ]
  },
  {
   "cell_type": "code",
   "execution_count": null,
   "metadata": {},
   "outputs": [],
   "source": [
    "from sklearn.svm import LinearSVC\n",
    "\n",
    "# default: max_iter=1000\n",
    "# try incrementally increasing max_iter to eliminate the warning\n",
    "max_iter = 1000\n",
    "\n",
    "X_train, X_test, y_train, y_test = train_test_split(X_cancer, y_cancer, random_state=0)\n",
    "\n",
    "clf = LinearSVC(max_iter=max_iter).fit(X_train, y_train)\n",
    "print(\"Breast cancer dataset\")\n",
    "print(\n",
    "    f\"Accuracy of Linear SVC classifier on training set: {clf.score(X_train, y_train):.3f}\"\n",
    ")\n",
    "print(f\"Accuracy of Linear SVC classifier on test set: {clf.score(X_test, y_test):.3f}\")"
   ]
  },
  {
   "cell_type": "markdown",
   "metadata": {},
   "source": [
    "### Multi-class classification with linear models"
   ]
  },
  {
   "cell_type": "markdown",
   "metadata": {},
   "source": [
    "#### LinearSVC with M classes generates M one vs rest classifiers."
   ]
  },
  {
   "cell_type": "code",
   "execution_count": null,
   "metadata": {},
   "outputs": [],
   "source": [
    "from sklearn.svm import LinearSVC\n",
    "\n",
    "# default: max_iter=1000\n",
    "# try incrementally increasing max_iter to eliminate the warning\n",
    "max_iter = 1000\n",
    "random_state = None\n",
    "dual = True\n",
    "\n",
    "X_train, X_test, y_train, y_test = train_test_split(\n",
    "    X_fruits_2d, y_fruits_2d, random_state=42\n",
    ")\n",
    "\n",
    "clf = LinearSVC(C=5, random_state=random_state, max_iter=max_iter, dual=dual).fit(\n",
    "    X_train, y_train\n",
    ")\n",
    "print(f\"Coefficients:\\n{clf.coef_}\")\n",
    "print(f\"Intercepts:\\n{clf.intercept_}\")"
   ]
  },
  {
   "cell_type": "markdown",
   "metadata": {},
   "source": [
    "#### Multi-class results on the fruit dataset"
   ]
  },
  {
   "cell_type": "code",
   "execution_count": null,
   "metadata": {},
   "outputs": [],
   "source": [
    "target_names_fruits"
   ]
  },
  {
   "cell_type": "code",
   "execution_count": null,
   "metadata": {},
   "outputs": [],
   "source": [
    "colors = [\"r\", \"g\", \"b\", \"y\"]\n",
    "cmap_fruits = ListedColormap([\"#FF0000\", \"#00FF00\", \"#0000FF\", \"#FFFF00\"])\n",
    "\n",
    "x_0_range = np.linspace(-10, 15)\n",
    "\n",
    "plt.figure(figsize=(8, 6))\n",
    "plt.xlabel(\"height\")\n",
    "plt.ylabel(\"width\")\n",
    "plt.xlim(-2, 12)\n",
    "plt.ylim(-2, 15)\n",
    "\n",
    "plt.scatter(\n",
    "    X_fruits_2d[\"height\"],\n",
    "    X_fruits_2d[\"width\"],\n",
    "    c=y_fruits_2d,\n",
    "    cmap=cmap_fruits,\n",
    "    edgecolor=\"lightgrey\",\n",
    "    alpha=0.7,\n",
    "    label=\"fruits\",\n",
    ")\n",
    "\n",
    "for w, b, color, name in zip(clf.coef_, clf.intercept_, colors, target_names_fruits):\n",
    "    # Since class prediction with a linear model uses the formula y = w_0 x_0 + w_1 x_1 + b,\n",
    "    # and the decision boundary is defined as being all points with y = 0, to plot x_1 as a\n",
    "    # function of x_0 we just solve w_0 x_0 + w_1 x_1 + b = 0 for x_1:\n",
    "    plt.plot(x_0_range, -(x_0_range * w[0] + b) / w[1], c=color, alpha=0.8, label=name)\n",
    "\n",
    "plt.legend()\n",
    "plt.tight_layout()"
   ]
  },
  {
   "cell_type": "markdown",
   "metadata": {},
   "source": [
    "## Kernelized Support Vector Machines"
   ]
  },
  {
   "cell_type": "markdown",
   "metadata": {},
   "source": [
    "### Classification"
   ]
  },
  {
   "cell_type": "code",
   "execution_count": null,
   "metadata": {
    "scrolled": false
   },
   "outputs": [],
   "source": [
    "from sklearn.svm import SVC\n",
    "from adspy_shared_utilities import plot_class_regions_for_classifier\n",
    "\n",
    "X_train, X_test, y_train, y_test = train_test_split(X_D2, y_D2, random_state=0)\n",
    "\n",
    "# The default SVC kernel is radial basis function (RBF)\n",
    "clf = SVC().fit(X_train, y_train)\n",
    "\n",
    "plt.figure(figsize=(8, 6))\n",
    "plot_class_regions_for_classifier(\n",
    "    clf,\n",
    "    X_train,\n",
    "    y_train,\n",
    "    None,\n",
    "    None,\n",
    "    \"Support Vector Classifier: RBF kernel\",\n",
    ")\n",
    "\n",
    "# Compare decision boundries with polynomial kernel, degree = 3\n",
    "deg = 3\n",
    "clf = SVC(kernel=\"poly\", degree=deg).fit(X_train, y_train)\n",
    "\n",
    "plt.figure(figsize=(8, 6))\n",
    "plot_class_regions_for_classifier(\n",
    "    clf,\n",
    "    X_train,\n",
    "    y_train,\n",
    "    None,\n",
    "    None,\n",
    "    f\"Support Vector Classifier: Polynomial kernel, degree = {deg}\",\n",
    ")"
   ]
  },
  {
   "cell_type": "markdown",
   "metadata": {},
   "source": [
    "#### Support Vector Machine with RBF kernel: gamma parameter"
   ]
  },
  {
   "cell_type": "code",
   "execution_count": null,
   "metadata": {},
   "outputs": [],
   "source": [
    "from adspy_shared_utilities import plot_class_regions_for_classifier\n",
    "\n",
    "X_train, X_test, y_train, y_test = train_test_split(X_D2, y_D2, random_state=0)\n",
    "fig, subaxes = plt.subplots(3, 1, figsize=(8, 16))\n",
    "\n",
    "for this_gamma, subplot in zip([0.01, 1.0, 10.0], subaxes):\n",
    "    clf = SVC(kernel=\"rbf\", gamma=this_gamma).fit(X_train, y_train)\n",
    "    title = f\"Support Vector Classifier: \\nRBF kernel, gamma = {this_gamma:.3f}\"\n",
    "    plot_class_regions_for_classifier_subplot(\n",
    "        clf, X_train, y_train, None, None, title, subplot\n",
    "    )\n",
    "\n",
    "plt.tight_layout()"
   ]
  },
  {
   "cell_type": "markdown",
   "metadata": {},
   "source": [
    "#### Support Vector Machine with RBF kernel: using both C and gamma parameter "
   ]
  },
  {
   "cell_type": "code",
   "execution_count": null,
   "metadata": {},
   "outputs": [],
   "source": [
    "from sklearn.svm import SVC\n",
    "from adspy_shared_utilities import plot_class_regions_for_classifier_subplot\n",
    "\n",
    "from sklearn.model_selection import train_test_split\n",
    "\n",
    "\n",
    "X_train, X_test, y_train, y_test = train_test_split(X_D2, y_D2, random_state=0)\n",
    "fig, subaxes = plt.subplots(3, 4, figsize=(15, 12))\n",
    "\n",
    "for this_gamma, this_axis in zip([0.01, 1, 5], subaxes):\n",
    "\n",
    "    for this_C, subplot in zip([0.1, 1, 15, 250], this_axis):\n",
    "        title = f\"gamma = {this_gamma:.3f}, C = {this_C:.3f}\"\n",
    "        clf = SVC(kernel=\"rbf\", gamma=this_gamma, C=this_C).fit(X_train, y_train)\n",
    "        plot_class_regions_for_classifier_subplot(\n",
    "            clf, X_train, y_train, X_test, y_test, title, subplot\n",
    "        )\n",
    "\n",
    "        plt.tight_layout(pad=0.4, w_pad=0.5, h_pad=1.0)"
   ]
  },
  {
   "cell_type": "markdown",
   "metadata": {},
   "source": [
    "### Application of SVMs to a real dataset: unnormalized data"
   ]
  },
  {
   "cell_type": "code",
   "execution_count": null,
   "metadata": {},
   "outputs": [],
   "source": [
    "from sklearn.svm import SVC\n",
    "\n",
    "X_train, X_test, y_train, y_test = train_test_split(X_cancer, y_cancer, random_state=0)\n",
    "\n",
    "clf = SVC(C=10).fit(X_train, y_train)\n",
    "\n",
    "print(\"Breast cancer dataset (unnormalized features)\")\n",
    "\n",
    "print(f\"Accuracy of RBF-kernel SVC on training set: {clf.score(X_train, y_train):.3f}\")\n",
    "\n",
    "print(f\"Accuracy of RBF-kernel SVC on test set: {clf.score(X_test, y_test):.3f}\")"
   ]
  },
  {
   "cell_type": "markdown",
   "metadata": {},
   "source": [
    "### Application of SVMs to a real dataset: normalized data with feature preprocessing using minmax scaling"
   ]
  },
  {
   "cell_type": "code",
   "execution_count": null,
   "metadata": {},
   "outputs": [],
   "source": [
    "from sklearn.preprocessing import MinMaxScaler\n",
    "\n",
    "scaler = MinMaxScaler()\n",
    "X_train_scaled = scaler.fit_transform(X_train)\n",
    "X_test_scaled = scaler.transform(X_test)\n",
    "\n",
    "clf = SVC(C=10).fit(X_train_scaled, y_train)\n",
    "print(\"Breast cancer dataset (normalized with MinMax scaling)\")\n",
    "print(\n",
    "    f\"RBF-kernel SVC (with MinMax scaling) training set accuracy: {clf.score(X_train_scaled, y_train):.3f}\"\n",
    ")\n",
    "print(\n",
    "    f\"RBF-kernel SVC (with MinMax scaling) test set accuracy: {clf.score(X_test_scaled, y_test):.3f}\"\n",
    ")"
   ]
  },
  {
   "cell_type": "markdown",
   "metadata": {
    "collapsed": true
   },
   "source": [
    "## Cross-validation"
   ]
  },
  {
   "cell_type": "markdown",
   "metadata": {},
   "source": [
    "### Example based on k-NN classifier with fruit dataset (2 features)"
   ]
  },
  {
   "cell_type": "code",
   "execution_count": null,
   "metadata": {},
   "outputs": [],
   "source": [
    "from sklearn.model_selection import cross_val_score\n",
    "\n",
    "clf = KNeighborsClassifier(n_neighbors=5)\n",
    "X = X_fruits_2d.values\n",
    "y = y_fruits_2d.values\n",
    "folds = 3\n",
    "cv_scores = cross_val_score(clf, X, y, cv=folds)\n",
    "\n",
    "print(f\"Cross-validation scores ({folds}-fold): {cv_scores}\")\n",
    "print(f\"Mean cross-validation score ({folds}-fold): {np.mean(cv_scores):.3f}\")"
   ]
  },
  {
   "cell_type": "markdown",
   "metadata": {},
   "source": [
    "### A note on performing cross-validation for more advanced scenarios.\n",
    "\n",
    "In some cases (e.g. when feature values have very different ranges), we've seen the need to scale or normalize the training and test sets before use with a classifier. The proper way to do cross-validation when you need to scale the data is *not* to scale the entire dataset with a single transform, since this will indirectly leak information into the training data about the whole dataset, including the test data (see the lecture on data leakage later in the course).  Instead, scaling/normalizing must be computed and applied for each cross-validation fold separately.  To do this, the easiest way in scikit-learn is to use *pipelines*.  While these are beyond the scope of this course, further information is available in the scikit-learn documentation here:\n",
    "\n",
    "http://scikit-learn.org/stable/modules/generated/sklearn.pipeline.Pipeline.html\n",
    "\n",
    "or the Pipeline section in the recommended textbook: Introduction to Machine Learning with Python by Andreas C. Müller and Sarah Guido (O'Reilly Media)."
   ]
  },
  {
   "cell_type": "markdown",
   "metadata": {},
   "source": [
    "## Validation curve example"
   ]
  },
  {
   "cell_type": "code",
   "execution_count": null,
   "metadata": {},
   "outputs": [],
   "source": [
    "from sklearn.svm import SVC\n",
    "from sklearn.model_selection import validation_curve\n",
    "\n",
    "folds = 3\n",
    "\n",
    "param_range = np.logspace(-3, 3, 4)\n",
    "\n",
    "train_scores, test_scores = validation_curve(\n",
    "    SVC(),\n",
    "    X,\n",
    "    y,\n",
    "    param_name=\"gamma\",\n",
    "    param_range=param_range,\n",
    "    cv=folds,\n",
    ")"
   ]
  },
  {
   "cell_type": "code",
   "execution_count": null,
   "metadata": {},
   "outputs": [],
   "source": [
    "print(train_scores, \"\\n\")\n",
    "print(np.mean(train_scores, axis=1), \"\\n\")\n",
    "print(np.mean(train_scores))"
   ]
  },
  {
   "cell_type": "code",
   "execution_count": null,
   "metadata": {},
   "outputs": [],
   "source": [
    "print(test_scores, \"\\n\")\n",
    "print(np.mean(test_scores, axis=1), \"\\n\")\n",
    "print(np.mean(test_scores))"
   ]
  },
  {
   "cell_type": "markdown",
   "metadata": {},
   "source": [
    "### The following code is based on scikit-learn validation_plot example.\n",
    "[Read the Docs:](http://scikit-learn.org/stable/auto_examples/model_selection/plot_validation_curve.html)"
   ]
  },
  {
   "cell_type": "code",
   "execution_count": null,
   "metadata": {},
   "outputs": [],
   "source": [
    "train_scores_mean = np.mean(train_scores, axis=1)\n",
    "train_scores_std = np.std(train_scores, axis=1)\n",
    "test_scores_mean = np.mean(test_scores, axis=1)\n",
    "test_scores_std = np.std(test_scores, axis=1)\n",
    "lw = 2\n",
    "\n",
    "plt.figure(figsize=(8, 6))\n",
    "plt.title(\"Validation Curve with SVM\")\n",
    "plt.xlabel(\"$\\gamma$ (gamma)\")\n",
    "plt.ylabel(\"Score\")\n",
    "plt.ylim(0.0, 1.1)\n",
    "plt.grid(alpha=0.2)\n",
    "\n",
    "plt.semilogx(\n",
    "    param_range,\n",
    "    train_scores_mean,\n",
    "    label=\"Training score\",\n",
    "    color=\"darkorange\",\n",
    "    lw=lw,\n",
    ")\n",
    "\n",
    "plt.fill_between(\n",
    "    param_range,\n",
    "    train_scores_mean - train_scores_std,\n",
    "    train_scores_mean + train_scores_std,\n",
    "    alpha=0.2,\n",
    "    color=\"darkorange\",\n",
    "    lw=lw,\n",
    ")\n",
    "\n",
    "plt.semilogx(\n",
    "    param_range,\n",
    "    test_scores_mean,\n",
    "    label=\"Cross-validation score\",\n",
    "    color=\"navy\",\n",
    "    lw=lw,\n",
    ")\n",
    "\n",
    "plt.fill_between(\n",
    "    param_range,\n",
    "    test_scores_mean - test_scores_std,\n",
    "    test_scores_mean + test_scores_std,\n",
    "    alpha=0.2,\n",
    "    color=\"navy\",\n",
    "    lw=lw,\n",
    ")\n",
    "\n",
    "plt.legend(loc=\"best\")\n",
    "plt.tight_layout()"
   ]
  }
 ],
 "metadata": {
  "anaconda-cloud": {},
  "kernelspec": {
   "display_name": "Python 3 (ipykernel)",
   "language": "python",
   "name": "python3"
  },
  "language_info": {
   "codemirror_mode": {
    "name": "ipython",
    "version": 3
   },
   "file_extension": ".py",
   "mimetype": "text/x-python",
   "name": "python",
   "nbconvert_exporter": "python",
   "pygments_lexer": "ipython3",
   "version": "3.8.10"
  }
 },
 "nbformat": 4,
 "nbformat_minor": 2
}
